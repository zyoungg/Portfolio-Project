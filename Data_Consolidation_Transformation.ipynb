{
 "cells": [
  {
   "cell_type": "code",
   "execution_count": 1,
   "id": "accbdf53-cb4a-4bef-b53b-d4a36e9328eb",
   "metadata": {},
   "outputs": [],
   "source": [
    "import os\n",
    "import pandas as pd\n",
    "import numpy as np\n",
    "# from openpyxl import load_workbook"
   ]
  },
  {
   "cell_type": "code",
   "execution_count": 2,
   "id": "60c85aeb-e4f7-41a9-bb94-0bfbcf22837d",
   "metadata": {},
   "outputs": [],
   "source": [
    "# Initialize values for the parameters\n",
    "source = r\"C:\\Users\\zygo\\Desktop\\DataRecords\\12-21-2019\"\n",
    "batchName = \"A_Arena\"\n",
    "fileCount = 50"
   ]
  },
  {
   "cell_type": "code",
   "execution_count": 3,
   "id": "f282da77-d973-493b-b8d5-fe98ed48e7fb",
   "metadata": {},
   "outputs": [],
   "source": [
    "# Iterate over directories to search for .csv files, then append into 1 single list until specified file count \n",
    "\n",
    "def extract(source, batchName, fileCount):\n",
    "    data=[]\n",
    "    for chamberID in os.listdir(source):\n",
    "        count=0\n",
    "        file_path = os.path.join(source, chamberID, batchName)\n",
    "\n",
    "        if os.path.isdir(file_path):\n",
    "            for files in os.listdir(file_path):\n",
    "                if files.endswith(\".csv\"):\n",
    "                    new_file_path = os.path.join(file_path, files)\n",
    "                    df = pd.read_csv(new_file_path)\n",
    "                    data.append(df)\n",
    "                    count+=1\n",
    "                    if count >= fileCount:\n",
    "                        break\n",
    "    return data"
   ]
  },
  {
   "cell_type": "code",
   "execution_count": 4,
   "id": "fbb9c251-0fd2-4675-9bc1-331ed1845463",
   "metadata": {},
   "outputs": [],
   "source": [
    "# Clean and transform data into desirable format\n",
    "\n",
    "def transform(data):\n",
    "    # Concatenate all DataFrames horizontally along columns\n",
    "    merged_data = pd.concat(data, axis=1)\n",
    "    \n",
    "    #Drop duplicated columns\n",
    "    filtered_data = merged_data.T.drop_duplicates().drop('Data', axis=0)\n",
    "    filtered_data = filtered_data.T.set_index('Time(ms)')\n",
    "    \n",
    "    # Drop rows where any column has zero values\n",
    "    filtered_data = filtered_data.loc[(filtered_data != 0).all(axis=1)]\n",
    "    \n",
    "    #Rename columns\n",
    "    column_list = []\n",
    "    \n",
    "    for chamber in range(18):\n",
    "        chamber_id = chamber + 1\n",
    "        for i in range(50):\n",
    "            column_list.append(\"Chamber{}_{}\".format(chamber_id, i+1)) \n",
    "    filtered_data.columns = column_list\n",
    "    \n",
    "    return filtered_data"
   ]
  },
  {
   "cell_type": "code",
   "execution_count": 15,
   "id": "6a606a52-5c2b-466a-a298-22b93d0d5ba2",
   "metadata": {},
   "outputs": [],
   "source": [
    "# Calculate sum for specific rows and organize the sums accordingly to the columns in a DataFrame.\n",
    "\n",
    "def sum(filtered_data):\n",
    "    sum_data = filtered_data.iloc[12:23]\n",
    "    sum_list = sum_data.sum().tolist()\n",
    "    reshaped_sum_list = np.array(sum_list).reshape(-1, fileCount)\n",
    "    \n",
    "    column_sum_list = []\n",
    "    for chamber in range(len(os.listdir(source))):\n",
    "        column_sum_list.append(\"Chamber{}\".format(chamber + 1))\n",
    "    \n",
    "    sum_data_ph = []\n",
    "    sum_df = pd.DataFrame(sum_data_ph, columns=column_sum_list)\n",
    "    \n",
    "    for i in range(len(column_sum_list)):\n",
    "        sum_df[column_sum_list[i]] = reshaped_sum_list[i].tolist()\n",
    "    return sum_df"
   ]
  },
  {
   "cell_type": "code",
   "execution_count": 6,
   "id": "3d6093d3-3c63-47e8-bbe5-420f10362778",
   "metadata": {},
   "outputs": [],
   "source": [
    "# Generate descriptive statistics for data obtained from sum function\n",
    "def descriptive_stats(sum_data):\n",
    "    dstats_df = sum_data.describe().round().astype(int)\n",
    "    specified_dstats = ['max','min','mean','std']\n",
    "    #dstats_output = dstats_df[dstats_df.index.isin(specified_dstats)]\n",
    "    dstats_output = dstats_df.filter(items = specified_dstats, axis=0)\n",
    "    return dstats_output"
   ]
  },
  {
   "cell_type": "code",
   "execution_count": 35,
   "id": "0c9c4aa5-c8b3-4d38-bcb6-31788f3f711b",
   "metadata": {},
   "outputs": [],
   "source": [
    "# Export file to excel\n",
    "def load(data, sum_data, dstats_data):\n",
    "    excel_file_path = r'C:\\Users\\zygo\\Desktop\\Report\\New_Test_{}.xlsx'.format(fileCount)\n",
    "    with pd.ExcelWriter(excel_file_path) as writer:\n",
    "        data.to_excel(writer, sheet_name='Data')\n",
    "        sum_data.to_excel(writer, sheet_name='Sum')\n",
    "        dstats_data.to_excel(writer, sheet_name='DescriptiveStats')\n",
    "    print(f\"Files have been exported to excel.\")"
   ]
  },
  {
   "cell_type": "code",
   "execution_count": 18,
   "id": "4bb9be6e-03c5-465d-a266-e1774cb7633a",
   "metadata": {},
   "outputs": [],
   "source": [
    "data = extract(source, batchName, fileCount)"
   ]
  },
  {
   "cell_type": "code",
   "execution_count": 20,
   "id": "0f766a6a-251f-47dc-ac66-ce56df093fc6",
   "metadata": {},
   "outputs": [],
   "source": [
    "dataframe = transform(data)"
   ]
  },
  {
   "cell_type": "code",
   "execution_count": 21,
   "id": "7d9e8fce-fb25-4ad7-a7bc-eb6af95034a7",
   "metadata": {
    "scrolled": true
   },
   "outputs": [],
   "source": [
    "sum_data = sum(dataframe)"
   ]
  },
  {
   "cell_type": "code",
   "execution_count": 23,
   "id": "c10032a4-c03c-46f2-bbfa-5ed8616b5b56",
   "metadata": {},
   "outputs": [],
   "source": [
    "dstats = descriptive_stats(sum_data)"
   ]
  },
  {
   "cell_type": "code",
   "execution_count": 34,
   "id": "86720d94-f5ab-4b40-a91e-012c5a346c16",
   "metadata": {},
   "outputs": [
    {
     "name": "stdout",
     "output_type": "stream",
     "text": [
      "Files have been exported to excel.\n"
     ]
    }
   ],
   "source": [
    "load(dataframe, sum_data, dstats)"
   ]
  },
  {
   "cell_type": "code",
   "execution_count": null,
   "id": "3c677f8b-149d-4a1d-987b-ae3dcd6ae653",
   "metadata": {},
   "outputs": [],
   "source": [
    "# Set the path for the output CSV file\n",
    "#output_path = r'C:\\Users\\zygo\\Desktop\\KP\\test.csv'\n",
    "\n",
    "# Write the merged data to a CSV file\n",
    "#filtered_data.to_csv()\n",
    "#print(r'Merged data saved to C:\\Users\\zygo\\Desktop\\KP')"
   ]
  },
  {
   "cell_type": "code",
   "execution_count": null,
   "id": "d11c9405-e16c-4740-bc88-da7c9b3041f5",
   "metadata": {},
   "outputs": [],
   "source": []
  }
 ],
 "metadata": {
  "kernelspec": {
   "display_name": "Python 3 (ipykernel)",
   "language": "python",
   "name": "python3"
  },
  "language_info": {
   "codemirror_mode": {
    "name": "ipython",
    "version": 3
   },
   "file_extension": ".py",
   "mimetype": "text/x-python",
   "name": "python",
   "nbconvert_exporter": "python",
   "pygments_lexer": "ipython3",
   "version": "3.12.1"
  }
 },
 "nbformat": 4,
 "nbformat_minor": 5
}
