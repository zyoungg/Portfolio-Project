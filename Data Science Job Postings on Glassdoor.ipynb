{
 "cells": [
  {
   "cell_type": "code",
   "execution_count": 1,
   "id": "5095dffd-025f-43c0-8bd7-bb1d1fd1402c",
   "metadata": {},
   "outputs": [],
   "source": [
    "import kaggle\n",
    "import zipfile\n",
    "import pandas as pd"
   ]
  },
  {
   "cell_type": "code",
   "execution_count": 2,
   "id": "66906471-3a45-43a7-b995-1f14653123b0",
   "metadata": {},
   "outputs": [],
   "source": [
    "#!kaggle datasets download -d rashikrahmanpritom/data-science-job-posting-on-glassdoor"
   ]
  },
  {
   "cell_type": "code",
   "execution_count": 3,
   "id": "2dfcc8ae-16c0-46fc-ab4a-7e8a76e9788a",
   "metadata": {},
   "outputs": [],
   "source": [
    "# zipfile_name = r'D:\\OneDrive\\Data Analysis\\PortfolioProject\\DataScience_Job_Posting_Glassdoor\\data-science-job-posting-on-glassdoor.zip'\n",
    "# with zipfile.ZipFile(zipfile_name, 'r') as file:\n",
    "#     file.extractall()"
   ]
  },
  {
   "cell_type": "markdown",
   "id": "3004f808-0e0f-46e0-9116-d453efa961de",
   "metadata": {},
   "source": [
    "FIRST LOOK INTO THE DATASET: DATA CLEANING"
   ]
  },
  {
   "cell_type": "code",
   "execution_count": 4,
   "id": "a367d05e-7d7d-436f-81c8-a53c36bcf6a6",
   "metadata": {},
   "outputs": [],
   "source": [
    "# assign dataframe variable and take a first look at the csv file\n",
    "df = pd.read_csv('Uncleaned_DS_jobs.csv')"
   ]
  },
  {
   "cell_type": "code",
   "execution_count": 5,
   "id": "3b08e923-729f-44fe-a45b-59551b4fc0e1",
   "metadata": {},
   "outputs": [
    {
     "name": "stdout",
     "output_type": "stream",
     "text": [
      "<class 'pandas.core.frame.DataFrame'>\n",
      "RangeIndex: 672 entries, 0 to 671\n",
      "Data columns (total 15 columns):\n",
      " #   Column             Non-Null Count  Dtype  \n",
      "---  ------             --------------  -----  \n",
      " 0   index              672 non-null    int64  \n",
      " 1   Job Title          672 non-null    object \n",
      " 2   Salary Estimate    672 non-null    object \n",
      " 3   Job Description    672 non-null    object \n",
      " 4   Rating             672 non-null    float64\n",
      " 5   Company Name       672 non-null    object \n",
      " 6   Location           672 non-null    object \n",
      " 7   Headquarters       672 non-null    object \n",
      " 8   Size               672 non-null    object \n",
      " 9   Founded            672 non-null    int64  \n",
      " 10  Type of ownership  672 non-null    object \n",
      " 11  Industry           672 non-null    object \n",
      " 12  Sector             672 non-null    object \n",
      " 13  Revenue            672 non-null    object \n",
      " 14  Competitors        672 non-null    object \n",
      "dtypes: float64(1), int64(2), object(12)\n",
      "memory usage: 78.9+ KB\n"
     ]
    }
   ],
   "source": [
    "# check number of cols/ rows, datatype\n",
    "df.info()"
   ]
  },
  {
   "cell_type": "code",
   "execution_count": 6,
   "id": "49623b22-0fcc-4cd6-802f-d47a21a5682b",
   "metadata": {},
   "outputs": [
    {
     "data": {
      "text/html": [
       "<div>\n",
       "<style scoped>\n",
       "    .dataframe tbody tr th:only-of-type {\n",
       "        vertical-align: middle;\n",
       "    }\n",
       "\n",
       "    .dataframe tbody tr th {\n",
       "        vertical-align: top;\n",
       "    }\n",
       "\n",
       "    .dataframe thead th {\n",
       "        text-align: right;\n",
       "    }\n",
       "</style>\n",
       "<table border=\"1\" class=\"dataframe\">\n",
       "  <thead>\n",
       "    <tr style=\"text-align: right;\">\n",
       "      <th></th>\n",
       "      <th>index</th>\n",
       "      <th>Job Title</th>\n",
       "      <th>Salary Estimate</th>\n",
       "      <th>Job Description</th>\n",
       "      <th>Rating</th>\n",
       "      <th>Company Name</th>\n",
       "      <th>Location</th>\n",
       "      <th>Headquarters</th>\n",
       "      <th>Size</th>\n",
       "      <th>Founded</th>\n",
       "      <th>Type of ownership</th>\n",
       "      <th>Industry</th>\n",
       "      <th>Sector</th>\n",
       "      <th>Revenue</th>\n",
       "      <th>Competitors</th>\n",
       "    </tr>\n",
       "  </thead>\n",
       "  <tbody>\n",
       "    <tr>\n",
       "      <th>0</th>\n",
       "      <td>0</td>\n",
       "      <td>Sr Data Scientist</td>\n",
       "      <td>$137K-$171K (Glassdoor est.)</td>\n",
       "      <td>Description\\n\\nThe Senior Data Scientist is re...</td>\n",
       "      <td>3.1</td>\n",
       "      <td>Healthfirst\\n3.1</td>\n",
       "      <td>New York, NY</td>\n",
       "      <td>New York, NY</td>\n",
       "      <td>1001 to 5000 employees</td>\n",
       "      <td>1993</td>\n",
       "      <td>Nonprofit Organization</td>\n",
       "      <td>Insurance Carriers</td>\n",
       "      <td>Insurance</td>\n",
       "      <td>Unknown / Non-Applicable</td>\n",
       "      <td>EmblemHealth, UnitedHealth Group, Aetna</td>\n",
       "    </tr>\n",
       "    <tr>\n",
       "      <th>1</th>\n",
       "      <td>1</td>\n",
       "      <td>Data Scientist</td>\n",
       "      <td>$137K-$171K (Glassdoor est.)</td>\n",
       "      <td>Secure our Nation, Ignite your Future\\n\\nJoin ...</td>\n",
       "      <td>4.2</td>\n",
       "      <td>ManTech\\n4.2</td>\n",
       "      <td>Chantilly, VA</td>\n",
       "      <td>Herndon, VA</td>\n",
       "      <td>5001 to 10000 employees</td>\n",
       "      <td>1968</td>\n",
       "      <td>Company - Public</td>\n",
       "      <td>Research &amp; Development</td>\n",
       "      <td>Business Services</td>\n",
       "      <td>$1 to $2 billion (USD)</td>\n",
       "      <td>-1</td>\n",
       "    </tr>\n",
       "    <tr>\n",
       "      <th>2</th>\n",
       "      <td>2</td>\n",
       "      <td>Data Scientist</td>\n",
       "      <td>$137K-$171K (Glassdoor est.)</td>\n",
       "      <td>Overview\\n\\n\\nAnalysis Group is one of the lar...</td>\n",
       "      <td>3.8</td>\n",
       "      <td>Analysis Group\\n3.8</td>\n",
       "      <td>Boston, MA</td>\n",
       "      <td>Boston, MA</td>\n",
       "      <td>1001 to 5000 employees</td>\n",
       "      <td>1981</td>\n",
       "      <td>Private Practice / Firm</td>\n",
       "      <td>Consulting</td>\n",
       "      <td>Business Services</td>\n",
       "      <td>$100 to $500 million (USD)</td>\n",
       "      <td>-1</td>\n",
       "    </tr>\n",
       "    <tr>\n",
       "      <th>3</th>\n",
       "      <td>3</td>\n",
       "      <td>Data Scientist</td>\n",
       "      <td>$137K-$171K (Glassdoor est.)</td>\n",
       "      <td>JOB DESCRIPTION:\\n\\nDo you have a passion for ...</td>\n",
       "      <td>3.5</td>\n",
       "      <td>INFICON\\n3.5</td>\n",
       "      <td>Newton, MA</td>\n",
       "      <td>Bad Ragaz, Switzerland</td>\n",
       "      <td>501 to 1000 employees</td>\n",
       "      <td>2000</td>\n",
       "      <td>Company - Public</td>\n",
       "      <td>Electrical &amp; Electronic Manufacturing</td>\n",
       "      <td>Manufacturing</td>\n",
       "      <td>$100 to $500 million (USD)</td>\n",
       "      <td>MKS Instruments, Pfeiffer Vacuum, Agilent Tech...</td>\n",
       "    </tr>\n",
       "    <tr>\n",
       "      <th>4</th>\n",
       "      <td>4</td>\n",
       "      <td>Data Scientist</td>\n",
       "      <td>$137K-$171K (Glassdoor est.)</td>\n",
       "      <td>Data Scientist\\nAffinity Solutions / Marketing...</td>\n",
       "      <td>2.9</td>\n",
       "      <td>Affinity Solutions\\n2.9</td>\n",
       "      <td>New York, NY</td>\n",
       "      <td>New York, NY</td>\n",
       "      <td>51 to 200 employees</td>\n",
       "      <td>1998</td>\n",
       "      <td>Company - Private</td>\n",
       "      <td>Advertising &amp; Marketing</td>\n",
       "      <td>Business Services</td>\n",
       "      <td>Unknown / Non-Applicable</td>\n",
       "      <td>Commerce Signals, Cardlytics, Yodlee</td>\n",
       "    </tr>\n",
       "  </tbody>\n",
       "</table>\n",
       "</div>"
      ],
      "text/plain": [
       "   index          Job Title               Salary Estimate  \\\n",
       "0      0  Sr Data Scientist  $137K-$171K (Glassdoor est.)   \n",
       "1      1     Data Scientist  $137K-$171K (Glassdoor est.)   \n",
       "2      2     Data Scientist  $137K-$171K (Glassdoor est.)   \n",
       "3      3     Data Scientist  $137K-$171K (Glassdoor est.)   \n",
       "4      4     Data Scientist  $137K-$171K (Glassdoor est.)   \n",
       "\n",
       "                                     Job Description  Rating  \\\n",
       "0  Description\\n\\nThe Senior Data Scientist is re...     3.1   \n",
       "1  Secure our Nation, Ignite your Future\\n\\nJoin ...     4.2   \n",
       "2  Overview\\n\\n\\nAnalysis Group is one of the lar...     3.8   \n",
       "3  JOB DESCRIPTION:\\n\\nDo you have a passion for ...     3.5   \n",
       "4  Data Scientist\\nAffinity Solutions / Marketing...     2.9   \n",
       "\n",
       "              Company Name       Location            Headquarters  \\\n",
       "0         Healthfirst\\n3.1   New York, NY            New York, NY   \n",
       "1             ManTech\\n4.2  Chantilly, VA             Herndon, VA   \n",
       "2      Analysis Group\\n3.8     Boston, MA              Boston, MA   \n",
       "3             INFICON\\n3.5     Newton, MA  Bad Ragaz, Switzerland   \n",
       "4  Affinity Solutions\\n2.9   New York, NY            New York, NY   \n",
       "\n",
       "                      Size  Founded        Type of ownership  \\\n",
       "0   1001 to 5000 employees     1993   Nonprofit Organization   \n",
       "1  5001 to 10000 employees     1968         Company - Public   \n",
       "2   1001 to 5000 employees     1981  Private Practice / Firm   \n",
       "3    501 to 1000 employees     2000         Company - Public   \n",
       "4      51 to 200 employees     1998        Company - Private   \n",
       "\n",
       "                                Industry             Sector  \\\n",
       "0                     Insurance Carriers          Insurance   \n",
       "1                 Research & Development  Business Services   \n",
       "2                             Consulting  Business Services   \n",
       "3  Electrical & Electronic Manufacturing      Manufacturing   \n",
       "4                Advertising & Marketing  Business Services   \n",
       "\n",
       "                      Revenue  \\\n",
       "0    Unknown / Non-Applicable   \n",
       "1      $1 to $2 billion (USD)   \n",
       "2  $100 to $500 million (USD)   \n",
       "3  $100 to $500 million (USD)   \n",
       "4    Unknown / Non-Applicable   \n",
       "\n",
       "                                         Competitors  \n",
       "0            EmblemHealth, UnitedHealth Group, Aetna  \n",
       "1                                                 -1  \n",
       "2                                                 -1  \n",
       "3  MKS Instruments, Pfeiffer Vacuum, Agilent Tech...  \n",
       "4               Commerce Signals, Cardlytics, Yodlee  "
      ]
     },
     "execution_count": 6,
     "metadata": {},
     "output_type": "execute_result"
    }
   ],
   "source": [
    "# view data in dataframe\n",
    "df.head(5)"
   ]
  },
  {
   "cell_type": "code",
   "execution_count": 7,
   "id": "2c329461-9ac8-408e-97cd-49a1e88d16c2",
   "metadata": {},
   "outputs": [
    {
     "name": "stdout",
     "output_type": "stream",
     "text": [
      "0\n",
      "30\n",
      "['$137K-$171K (Glassdoor est.)' '$75K-$131K (Glassdoor est.)'\n",
      " '$79K-$131K (Glassdoor est.)' '$99K-$132K (Glassdoor est.)'\n",
      " '$90K-$109K (Glassdoor est.)' '$101K-$165K (Glassdoor est.)'\n",
      " '$56K-$97K (Glassdoor est.)' '$79K-$106K (Glassdoor est.)'\n",
      " '$71K-$123K (Glassdoor est.)' '$90K-$124K (Glassdoor est.)'\n",
      " '$91K-$150K (Glassdoor est.)' '$141K-$225K (Glassdoor est.)'\n",
      " '$145K-$225K(Employer est.)' '$79K-$147K (Glassdoor est.)'\n",
      " '$122K-$146K (Glassdoor est.)' '$112K-$116K (Glassdoor est.)'\n",
      " '$110K-$163K (Glassdoor est.)' '$124K-$198K (Glassdoor est.)'\n",
      " '$79K-$133K (Glassdoor est.)' '$69K-$116K (Glassdoor est.)'\n",
      " '$31K-$56K (Glassdoor est.)' '$95K-$119K (Glassdoor est.)'\n",
      " '$212K-$331K (Glassdoor est.)' '$66K-$112K (Glassdoor est.)'\n",
      " '$128K-$201K (Glassdoor est.)' '$138K-$158K (Glassdoor est.)'\n",
      " '$80K-$132K (Glassdoor est.)' '$87K-$141K (Glassdoor est.)'\n",
      " '$92K-$155K (Glassdoor est.)' '$105K-$167K (Glassdoor est.)']\n"
     ]
    }
   ],
   "source": [
    "# Check for errors/ NaN and unique values in 'Job Title' column.\n",
    "print(df['Job Title'].isnull().sum())\n",
    "print(df['Salary Estimate'].nunique())\n",
    "print(df['Salary Estimate'].unique())"
   ]
  },
  {
   "cell_type": "code",
   "execution_count": 8,
   "id": "f29f8980-f562-4c40-98a0-0f5388833b6c",
   "metadata": {},
   "outputs": [
    {
     "name": "stdout",
     "output_type": "stream",
     "text": [
      "0\n",
      "30\n",
      "['$137K-$171K (Glassdoor est.)' '$75K-$131K (Glassdoor est.)'\n",
      " '$79K-$131K (Glassdoor est.)' '$99K-$132K (Glassdoor est.)'\n",
      " '$90K-$109K (Glassdoor est.)' '$101K-$165K (Glassdoor est.)'\n",
      " '$56K-$97K (Glassdoor est.)' '$79K-$106K (Glassdoor est.)'\n",
      " '$71K-$123K (Glassdoor est.)' '$90K-$124K (Glassdoor est.)'\n",
      " '$91K-$150K (Glassdoor est.)' '$141K-$225K (Glassdoor est.)'\n",
      " '$145K-$225K(Employer est.)' '$79K-$147K (Glassdoor est.)'\n",
      " '$122K-$146K (Glassdoor est.)' '$112K-$116K (Glassdoor est.)'\n",
      " '$110K-$163K (Glassdoor est.)' '$124K-$198K (Glassdoor est.)'\n",
      " '$79K-$133K (Glassdoor est.)' '$69K-$116K (Glassdoor est.)'\n",
      " '$31K-$56K (Glassdoor est.)' '$95K-$119K (Glassdoor est.)'\n",
      " '$212K-$331K (Glassdoor est.)' '$66K-$112K (Glassdoor est.)'\n",
      " '$128K-$201K (Glassdoor est.)' '$138K-$158K (Glassdoor est.)'\n",
      " '$80K-$132K (Glassdoor est.)' '$87K-$141K (Glassdoor est.)'\n",
      " '$92K-$155K (Glassdoor est.)' '$105K-$167K (Glassdoor est.)']\n"
     ]
    }
   ],
   "source": [
    "# Check for errors/ NaN and unique values in 'Salary Estimate' column.\n",
    "print(df['Salary Estimate'].isnull().sum())\n",
    "print(df['Salary Estimate'].nunique())\n",
    "print(df['Salary Estimate'].unique())"
   ]
  },
  {
   "cell_type": "code",
   "execution_count": 9,
   "id": "3a1a2357-ef04-4400-a406-b1dbcec13692",
   "metadata": {},
   "outputs": [
    {
     "name": "stdout",
     "output_type": "stream",
     "text": [
      "['137-171 ' '75-131 ' '79-131 ' '99-132 ' '90-109 ' '101-165 ' '56-97 '\n",
      " '79-106 ' '71-123 ' '90-124 ' '91-150 ' '141-225 ' '145-225' '79-147 '\n",
      " '122-146 ' '112-116 ' '110-163 ' '124-198 ' '79-133 ' '69-116 ' '31-56 '\n",
      " '95-119 ' '212-331 ' '66-112 ' '128-201 ' '138-158 ' '80-132 ' '87-141 '\n",
      " '92-155 ' '105-167 ']\n"
     ]
    }
   ],
   "source": [
    "# Replace '$', 'K', and texts with '' in 'Salary Estimate' column\n",
    "df['Salary Estimate'] = df['Salary Estimate'].replace({r'\\$' : '',\n",
    "                                                      'K' : '',\n",
    "                                                      r'\\(Glassdoor est.\\)' : '',\n",
    "                                                      r'\\(Employer est.\\)' : ''}, regex=True)\n",
    "print(df['Salary Estimate'].unique())"
   ]
  },
  {
   "cell_type": "code",
   "execution_count": 10,
   "id": "f2c0952e-e809-47db-b129-78c4ab6448b9",
   "metadata": {},
   "outputs": [
    {
     "name": "stdout",
     "output_type": "stream",
     "text": [
      "0\n"
     ]
    }
   ],
   "source": [
    "# Check for errors/ NaN values in 'Company Name' column.\n",
    "print(df['Job Description'].isnull().sum())"
   ]
  },
  {
   "cell_type": "code",
   "execution_count": 11,
   "id": "c4916607-d646-4aef-ad32-59cb3efe5361",
   "metadata": {},
   "outputs": [
    {
     "name": "stdout",
     "output_type": "stream",
     "text": [
      "0\n",
      "[ 3.1  4.2  3.8  3.5  2.9  3.9  4.4  3.6  4.5  4.7  3.7  3.4  4.1  3.2\n",
      "  4.3  2.8  5.   4.8  3.3  2.7  2.2  2.6  4.   2.5  4.9  2.4 -1.   2.3\n",
      "  4.6  3.   2.1  2. ]\n"
     ]
    }
   ],
   "source": [
    "# Check for errors/ NaN and unique values in 'Rating' column.\n",
    "print(df['Rating'].isnull().sum())\n",
    "print(df['Rating'].unique())"
   ]
  },
  {
   "cell_type": "code",
   "execution_count": 12,
   "id": "52bd56ae-a7e2-4fbc-95ab-13c1171c5129",
   "metadata": {},
   "outputs": [
    {
     "name": "stdout",
     "output_type": "stream",
     "text": [
      "[3.1 4.2 3.8 3.5 2.9 3.9 4.4 3.6 4.5 4.7 3.7 3.4 4.1 3.2 4.3 2.8 5.  4.8\n",
      " 3.3 2.7 2.2 2.6 4.  2.5 4.9 2.4 0.  2.3 4.6 3.  2.1 2. ]\n"
     ]
    }
   ],
   "source": [
    "# Change values of 'Rating' column that contains -1 into 0 \n",
    "df['Rating'] = df['Rating'].apply(lambda x: 0 if x < 0 else x)\n",
    "print(df['Rating'].unique())"
   ]
  },
  {
   "cell_type": "code",
   "execution_count": 13,
   "id": "45f480ce-2238-4d93-ac77-9a3ef255daab",
   "metadata": {},
   "outputs": [
    {
     "name": "stdout",
     "output_type": "stream",
     "text": [
      "0\n"
     ]
    },
    {
     "data": {
      "text/plain": [
       "array(['Healthfirst\\n3.1', 'ManTech\\n4.2', 'Analysis Group\\n3.8',\n",
       "       'INFICON\\n3.5', 'Affinity Solutions\\n2.9', 'HG Insights\\n4.2',\n",
       "       'Novartis\\n3.9', 'iRobot\\n3.5', 'Intuit - Data\\n4.4',\n",
       "       'XSELL Technologies\\n3.6'], dtype=object)"
      ]
     },
     "execution_count": 13,
     "metadata": {},
     "output_type": "execute_result"
    }
   ],
   "source": [
    "# Check for errors/ NaN and unique values in 'Company Name' column.\n",
    "print(df['Company Name'].isnull().sum())\n",
    "df['Company Name'].unique()[:10]"
   ]
  },
  {
   "cell_type": "code",
   "execution_count": 14,
   "id": "fd4066e0-f780-4a6d-aa0b-7f12822d4032",
   "metadata": {},
   "outputs": [
    {
     "data": {
      "text/plain": [
       "array(['Healthfirst', 'ManTech', 'Analysis Group', 'INFICON',\n",
       "       'Affinity Solutions', 'HG Insights', 'Novartis', 'iRobot',\n",
       "       'Intuit - Data', 'XSELL Technologies'], dtype=object)"
      ]
     },
     "execution_count": 14,
     "metadata": {},
     "output_type": "execute_result"
    }
   ],
   "source": [
    "# Remove values after \\n including \"\\n\"\n",
    "df['Company Name'] = df['Company Name'].str.split(r'\\n').str[0]\n",
    "df['Company Name'].unique()[:10]"
   ]
  },
  {
   "cell_type": "code",
   "execution_count": 15,
   "id": "de3960fc-550e-41d6-a657-cb7f0f1f9ce4",
   "metadata": {},
   "outputs": [
    {
     "name": "stdout",
     "output_type": "stream",
     "text": [
      "0\n"
     ]
    },
    {
     "data": {
      "text/plain": [
       "array(['New York, NY', 'Chantilly, VA', 'Boston, MA', 'Newton, MA',\n",
       "       'Santa Barbara, CA', 'Cambridge, MA', 'Bedford, MA',\n",
       "       'San Diego, CA', 'Chicago, IL', 'Herndon, VA'], dtype=object)"
      ]
     },
     "execution_count": 15,
     "metadata": {},
     "output_type": "execute_result"
    }
   ],
   "source": [
    "# Check for errors/ NaN and unique values in 'Location' column.\n",
    "print(df['Location'].isnull().sum())\n",
    "df['Location'].unique()[:10]"
   ]
  },
  {
   "cell_type": "code",
   "execution_count": 16,
   "id": "ee1bb91a-e96f-428d-b858-cf64782ae032",
   "metadata": {},
   "outputs": [
    {
     "name": "stdout",
     "output_type": "stream",
     "text": [
      "0\n",
      "['New York, NY' 'Herndon, VA' 'Boston, MA' 'Bad Ragaz, Switzerland'\n",
      " 'Santa Barbara, CA' 'Basel, Switzerland' 'Bedford, MA'\n",
      " 'Mountain View, CA' 'Chicago, IL' 'Mc Lean, VA']\n"
     ]
    }
   ],
   "source": [
    "# Check for errors/ NaN and unique values in 'Headquarters' column.\n",
    "print(df['Headquarters'].isnull().sum())\n",
    "print(df['Headquarters'].unique()[:10])"
   ]
  },
  {
   "cell_type": "code",
   "execution_count": 17,
   "id": "32131fe7-1d22-4c7c-ac2a-55a5d35f43c4",
   "metadata": {},
   "outputs": [
    {
     "name": "stdout",
     "output_type": "stream",
     "text": [
      "0\n"
     ]
    },
    {
     "data": {
      "text/plain": [
       "array(['1001 to 5000 employees', '5001 to 10000 employees',\n",
       "       '501 to 1000 employees', '51 to 200 employees', '10000+ employees',\n",
       "       '201 to 500 employees', '1 to 50 employees', '-1', 'Unknown'],\n",
       "      dtype=object)"
      ]
     },
     "execution_count": 17,
     "metadata": {},
     "output_type": "execute_result"
    }
   ],
   "source": [
    "# Check for errors/ NaN and unique values in 'Size' column.\n",
    "print(df['Size'].isnull().sum())\n",
    "df['Size'].nunique()\n",
    "df['Size'].unique()"
   ]
  },
  {
   "cell_type": "code",
   "execution_count": 18,
   "id": "972ffcd7-6f21-4b5b-ab7e-9468f2990f76",
   "metadata": {},
   "outputs": [
    {
     "name": "stdout",
     "output_type": "stream",
     "text": [
      "['1001 to 5000 employees' '5001 to 10000 employees'\n",
      " '501 to 1000 employees' '51 to 200 employees' '10000+ employees'\n",
      " '201 to 500 employees' '1 to 50 employees' <NA>]\n"
     ]
    }
   ],
   "source": [
    "# Replace -1 and 'Unknown' by NA\n",
    "df['Size'] = df['Size'].replace(['-1', 'Unknown'], pd.NA)\n",
    "print(df['Size'].unique())"
   ]
  },
  {
   "cell_type": "code",
   "execution_count": 19,
   "id": "e2df2b5a-0e90-4ab0-a81f-55ad3d0aeb2f",
   "metadata": {},
   "outputs": [
    {
     "name": "stdout",
     "output_type": "stream",
     "text": [
      "0\n",
      "103\n",
      "[1993 1968 1981 2000 1998 2010 1996 1990 1983 2014 2012 2016 1965 1973\n",
      " 1986 1997 2015 1945 1988 2017 2011 1967 1860 1992 2003 1951 2005 2019\n",
      " 1925 2008 1999 1978 1966 1912 1958 2013 1849 1781 1926 2006 1994 1863\n",
      " 1995   -1 1982 1974 2001 1985 1913 1971 1911 2009 1959 2007 1939 2002\n",
      " 1961 1963 1969 1946 1957 1953 1948 1850 1851 2004 1976 1918 1954 1947\n",
      " 1955 2018 1937 1917 1935 1929 1820 1952 1932 1894 1960 1788 1830 1984\n",
      " 1933 1880 1887 1970 1942 1980 1989 1908 1853 1875 1914 1898 1956 1977\n",
      " 1987 1896 1972 1949 1962]\n"
     ]
    }
   ],
   "source": [
    "# Check for errors/ NaN and unique values in 'Founded' column.\n",
    "print(df['Founded'].isnull().sum())\n",
    "print(df['Founded'].nunique())\n",
    "print(df['Founded'].unique())"
   ]
  },
  {
   "cell_type": "code",
   "execution_count": 20,
   "id": "2d97222a-c30c-4535-94c9-f213817f3bfa",
   "metadata": {},
   "outputs": [
    {
     "name": "stdout",
     "output_type": "stream",
     "text": [
      "102\n",
      "[1993 1968 1981 2000 1998 2010 1996 1990 1983 2014 2012 2016 1965 1973\n",
      " 1986 1997 2015 1945 1988 2017 2011 1967 1860 1992 2003 1951 2005 2019\n",
      " 1925 2008 1999 1978 1966 1912 1958 2013 1849 1781 1926 2006 1994 1863\n",
      " 1995 <NA> 1982 1974 2001 1985 1913 1971 1911 2009 1959 2007 1939 2002\n",
      " 1961 1963 1969 1946 1957 1953 1948 1850 1851 2004 1976 1918 1954 1947\n",
      " 1955 2018 1937 1917 1935 1929 1820 1952 1932 1894 1960 1788 1830 1984\n",
      " 1933 1880 1887 1970 1942 1980 1989 1908 1853 1875 1914 1898 1956 1977\n",
      " 1987 1896 1972 1949 1962]\n"
     ]
    }
   ],
   "source": [
    "# Replace -1 by NA\n",
    "df['Founded'] = df['Founded'].replace(-1, pd.NA)\n",
    "print(df['Founded'].nunique())\n",
    "print(df['Founded'].unique())"
   ]
  },
  {
   "cell_type": "code",
   "execution_count": 21,
   "id": "d161791b-f0a7-48b8-9394-08d5c6d31157",
   "metadata": {},
   "outputs": [
    {
     "name": "stdout",
     "output_type": "stream",
     "text": [
      "0\n",
      "13\n",
      "['Nonprofit Organization' 'Company - Public' 'Private Practice / Firm'\n",
      " 'Company - Private' 'Government' 'Subsidiary or Business Segment'\n",
      " 'Other Organization' '-1' 'Unknown' 'Hospital' 'Self-employed'\n",
      " 'College / University' 'Contract']\n"
     ]
    }
   ],
   "source": [
    "# Check for errors/ NaN and unique values in 'Founded' column.\n",
    "print(df['Type of ownership'].isnull().sum())\n",
    "print(df['Type of ownership'].nunique())\n",
    "print(df['Type of ownership'].unique())"
   ]
  },
  {
   "cell_type": "code",
   "execution_count": 22,
   "id": "3720ea4a-e6c5-49a2-b96c-e26051c115ad",
   "metadata": {},
   "outputs": [
    {
     "name": "stdout",
     "output_type": "stream",
     "text": [
      "11\n",
      "['Nonprofit Organization' 'Company - Public' 'Private Practice / Firm'\n",
      " 'Company - Private' 'Government' 'Subsidiary or Business Segment'\n",
      " 'Other Organization' <NA> 'Hospital' 'Self-employed'\n",
      " 'College / University' 'Contract']\n"
     ]
    }
   ],
   "source": [
    "# Replace -1 and 'Unknown by NA\n",
    "df['Type of ownership'] = df['Type of ownership'].replace(['-1', 'Unknown'], pd.NA)\n",
    "print(df['Type of ownership'].nunique())\n",
    "print(df['Type of ownership'].unique())"
   ]
  },
  {
   "cell_type": "code",
   "execution_count": 23,
   "id": "a15e1af2-6d9f-4a4d-8f61-5cfadfeb19eb",
   "metadata": {
    "scrolled": true
   },
   "outputs": [
    {
     "name": "stdout",
     "output_type": "stream",
     "text": [
      "0\n",
      "58\n",
      "['Insurance Carriers' 'Research & Development' 'Consulting'\n",
      " 'Electrical & Electronic Manufacturing' 'Advertising & Marketing'\n",
      " 'Computer Hardware & Software' 'Biotech & Pharmaceuticals'\n",
      " 'Consumer Electronics & Appliances Stores'\n",
      " 'Enterprise Software & Network Solutions' 'IT Services' 'Energy'\n",
      " 'Chemical Manufacturing' 'Federal Agencies' 'Internet'\n",
      " 'Health Care Services & Hospitals'\n",
      " 'Investment Banking & Asset Management' 'Aerospace & Defense' 'Utilities'\n",
      " '-1' 'Express Delivery Services' 'Staffing & Outsourcing'\n",
      " 'Insurance Agencies & Brokerages' 'Consumer Products Manufacturing'\n",
      " 'Industrial Manufacturing' 'Food & Beverage Manufacturing'\n",
      " 'Banks & Credit Unions' 'Video Games' 'Shipping'\n",
      " 'Telecommunications Services' 'Lending'\n",
      " 'Cable, Internet & Telephone Providers' 'Real Estate'\n",
      " 'Venture Capital & Private Equity' 'Miscellaneous Manufacturing'\n",
      " 'Oil & Gas Services' 'Transportation Equipment Manufacturing'\n",
      " 'Telecommunications Manufacturing' 'Transportation Management'\n",
      " 'News Outlet' 'Architectural & Engineering Services'\n",
      " 'Food & Beverage Stores' 'Other Retail Stores'\n",
      " 'Hotels, Motels, & Resorts' 'State & Regional Agencies'\n",
      " 'Financial Transaction Processing' 'Timber Operations'\n",
      " 'Colleges & Universities' 'Travel Agencies' 'Accounting'\n",
      " 'Logistics & Supply Chain' 'Farm Support Services' 'Social Assistance'\n",
      " 'Construction' 'Department, Clothing, & Shoe Stores' 'Publishing'\n",
      " 'Health, Beauty, & Fitness' 'Wholesale' 'Rail']\n"
     ]
    }
   ],
   "source": [
    "# Check for errors/ NaN and unique values in 'Industry' column.\n",
    "print(df['Industry'].isnull().sum())\n",
    "print(df['Industry'].nunique())\n",
    "print(df['Industry'].unique())"
   ]
  },
  {
   "cell_type": "code",
   "execution_count": 24,
   "id": "b5f5054e-a9ca-4fc8-945a-0247238ca478",
   "metadata": {
    "scrolled": true
   },
   "outputs": [
    {
     "name": "stdout",
     "output_type": "stream",
     "text": [
      "57\n",
      "['Insurance Carriers' 'Research & Development' 'Consulting'\n",
      " 'Electrical & Electronic Manufacturing' 'Advertising & Marketing'\n",
      " 'Computer Hardware & Software' 'Biotech & Pharmaceuticals'\n",
      " 'Consumer Electronics & Appliances Stores'\n",
      " 'Enterprise Software & Network Solutions' 'IT Services' 'Energy'\n",
      " 'Chemical Manufacturing' 'Federal Agencies' 'Internet'\n",
      " 'Health Care Services & Hospitals'\n",
      " 'Investment Banking & Asset Management' 'Aerospace & Defense' 'Utilities'\n",
      " <NA> 'Express Delivery Services' 'Staffing & Outsourcing'\n",
      " 'Insurance Agencies & Brokerages' 'Consumer Products Manufacturing'\n",
      " 'Industrial Manufacturing' 'Food & Beverage Manufacturing'\n",
      " 'Banks & Credit Unions' 'Video Games' 'Shipping'\n",
      " 'Telecommunications Services' 'Lending'\n",
      " 'Cable, Internet & Telephone Providers' 'Real Estate'\n",
      " 'Venture Capital & Private Equity' 'Miscellaneous Manufacturing'\n",
      " 'Oil & Gas Services' 'Transportation Equipment Manufacturing'\n",
      " 'Telecommunications Manufacturing' 'Transportation Management'\n",
      " 'News Outlet' 'Architectural & Engineering Services'\n",
      " 'Food & Beverage Stores' 'Other Retail Stores'\n",
      " 'Hotels, Motels, & Resorts' 'State & Regional Agencies'\n",
      " 'Financial Transaction Processing' 'Timber Operations'\n",
      " 'Colleges & Universities' 'Travel Agencies' 'Accounting'\n",
      " 'Logistics & Supply Chain' 'Farm Support Services' 'Social Assistance'\n",
      " 'Construction' 'Department, Clothing, & Shoe Stores' 'Publishing'\n",
      " 'Health, Beauty, & Fitness' 'Wholesale' 'Rail']\n"
     ]
    }
   ],
   "source": [
    "# Replace -1 by NA\n",
    "df['Industry'] = df['Industry'].replace('-1', pd.NA)\n",
    "print(df['Industry'].nunique())\n",
    "print(df['Industry'].unique())"
   ]
  },
  {
   "cell_type": "code",
   "execution_count": 25,
   "id": "c7ca9bc0-fd8c-457b-9ab7-535631ff5ed5",
   "metadata": {},
   "outputs": [
    {
     "name": "stdout",
     "output_type": "stream",
     "text": [
      "0\n",
      "23\n",
      "['Insurance' 'Business Services' 'Manufacturing' 'Information Technology'\n",
      " 'Biotech & Pharmaceuticals' 'Retail' 'Oil, Gas, Energy & Utilities'\n",
      " 'Government' 'Health Care' 'Finance' 'Aerospace & Defense' '-1'\n",
      " 'Transportation & Logistics' 'Media' 'Telecommunications' 'Real Estate'\n",
      " 'Travel & Tourism' 'Agriculture & Forestry' 'Education'\n",
      " 'Accounting & Legal' 'Non-Profit' 'Construction, Repair & Maintenance'\n",
      " 'Consumer Services']\n"
     ]
    }
   ],
   "source": [
    "# Check for errors/ NaN and unique values in 'Sector' column.\n",
    "print(df['Sector'].isnull().sum())\n",
    "print(df['Sector'].nunique())\n",
    "print(df['Sector'].unique())"
   ]
  },
  {
   "cell_type": "code",
   "execution_count": 26,
   "id": "7d059fd7-0dd3-4f55-81d2-12fa4e994125",
   "metadata": {},
   "outputs": [
    {
     "name": "stdout",
     "output_type": "stream",
     "text": [
      "22\n",
      "['Insurance' 'Business Services' 'Manufacturing' 'Information Technology'\n",
      " 'Biotech & Pharmaceuticals' 'Retail' 'Oil, Gas, Energy & Utilities'\n",
      " 'Government' 'Health Care' 'Finance' 'Aerospace & Defense' <NA>\n",
      " 'Transportation & Logistics' 'Media' 'Telecommunications' 'Real Estate'\n",
      " 'Travel & Tourism' 'Agriculture & Forestry' 'Education'\n",
      " 'Accounting & Legal' 'Non-Profit' 'Construction, Repair & Maintenance'\n",
      " 'Consumer Services']\n"
     ]
    }
   ],
   "source": [
    "# Replace -1 by NA\n",
    "df['Sector'] = df['Sector'].replace('-1', pd.NA)\n",
    "print(df['Sector'].nunique())\n",
    "print(df['Sector'].unique())"
   ]
  },
  {
   "cell_type": "code",
   "execution_count": 27,
   "id": "cce8566e-5b84-4208-8270-ab87bf3f150d",
   "metadata": {},
   "outputs": [
    {
     "name": "stdout",
     "output_type": "stream",
     "text": [
      "0\n",
      "14\n",
      "['Unknown / Non-Applicable' '$1 to $2 billion (USD)'\n",
      " '$100 to $500 million (USD)' '$10+ billion (USD)'\n",
      " '$2 to $5 billion (USD)' '$500 million to $1 billion (USD)'\n",
      " '$5 to $10 billion (USD)' '$10 to $25 million (USD)'\n",
      " '$25 to $50 million (USD)' '$50 to $100 million (USD)'\n",
      " '$1 to $5 million (USD)' '$5 to $10 million (USD)'\n",
      " 'Less than $1 million (USD)' '-1']\n"
     ]
    }
   ],
   "source": [
    "# Check for errors/ NaN and unique values in 'revenue' column.\n",
    "print(df['Revenue'].isnull().sum())\n",
    "print(df['Revenue'].nunique())\n",
    "print(df['Revenue'].unique())"
   ]
  },
  {
   "cell_type": "code",
   "execution_count": 28,
   "id": "93086b47-4329-4a58-8b3b-83fa92b10621",
   "metadata": {},
   "outputs": [
    {
     "name": "stdout",
     "output_type": "stream",
     "text": [
      "12\n",
      "[<NA> '$1 to $2 billion (USD)' '$100 to $500 million (USD)'\n",
      " '$10+ billion (USD)' '$2 to $5 billion (USD)'\n",
      " '$500 million to $1 billion (USD)' '$5 to $10 billion (USD)'\n",
      " '$10 to $25 million (USD)' '$25 to $50 million (USD)'\n",
      " '$50 to $100 million (USD)' '$1 to $5 million (USD)'\n",
      " '$5 to $10 million (USD)' 'Less than $1 million (USD)']\n"
     ]
    }
   ],
   "source": [
    "# Replace '-1' and 'Unknown / Non-Applicable' by NA\n",
    "df['Revenue'] = df['Revenue'].replace(['-1', 'Unknown / Non-Applicable'], pd.NA)\n",
    "print(df['Revenue'].nunique())\n",
    "print(df['Revenue'].unique())"
   ]
  },
  {
   "cell_type": "code",
   "execution_count": 29,
   "id": "8089fd19-dcaa-4271-9f34-d4705e8fc677",
   "metadata": {},
   "outputs": [
    {
     "name": "stdout",
     "output_type": "stream",
     "text": [
      "0\n",
      "108\n",
      "['EmblemHealth, UnitedHealth Group, Aetna' '-1'\n",
      " 'MKS Instruments, Pfeiffer Vacuum, Agilent Technologies'\n",
      " 'Commerce Signals, Cardlytics, Yodlee' 'Square, PayPal, H&R Block'\n",
      " 'Leidos, CACI International, Booz Allen Hamilton'\n",
      " 'Slalom, Daugherty Business Solutions'\n",
      " 'Oak Ridge National Laboratory, National Renewable Energy Lab, Los Alamos National Laboratory'\n",
      " 'CDW, PCM, SHI International'\n",
      " 'Crossix Solutions Inc., AppNexus, The Trade Desk']\n"
     ]
    }
   ],
   "source": [
    "# Check for errors/ NaN and unique values in 'Competitors' column.\n",
    "print(df['Competitors'].isnull().sum())\n",
    "print(df['Competitors'].nunique())\n",
    "print(df['Competitors'].unique()[:10])"
   ]
  },
  {
   "cell_type": "code",
   "execution_count": 30,
   "id": "7129608a-39ff-4ac1-923d-cf52dc4b4888",
   "metadata": {},
   "outputs": [
    {
     "name": "stdout",
     "output_type": "stream",
     "text": [
      "107\n",
      "['EmblemHealth, UnitedHealth Group, Aetna' <NA>\n",
      " 'MKS Instruments, Pfeiffer Vacuum, Agilent Technologies'\n",
      " 'Commerce Signals, Cardlytics, Yodlee' 'Square, PayPal, H&R Block'\n",
      " 'Leidos, CACI International, Booz Allen Hamilton'\n",
      " 'Slalom, Daugherty Business Solutions'\n",
      " 'Oak Ridge National Laboratory, National Renewable Energy Lab, Los Alamos National Laboratory'\n",
      " 'CDW, PCM, SHI International'\n",
      " 'Crossix Solutions Inc., AppNexus, The Trade Desk']\n"
     ]
    }
   ],
   "source": [
    "# Replace '-1' by NA\n",
    "df['Competitors'] = df['Competitors'].replace('-1', pd.NA)\n",
    "print(df['Competitors'].nunique())\n",
    "print(df['Competitors'].unique()[:10])"
   ]
  },
  {
   "cell_type": "markdown",
   "id": "3ed03fd0-8cf1-40bf-9504-fc036dcd8d92",
   "metadata": {},
   "source": [
    "DATA TRANSFORMATION"
   ]
  },
  {
   "cell_type": "code",
   "execution_count": 31,
   "id": "cefc1ae9-7be6-4278-ad85-39b80a730453",
   "metadata": {},
   "outputs": [
    {
     "data": {
      "text/html": [
       "<div>\n",
       "<style scoped>\n",
       "    .dataframe tbody tr th:only-of-type {\n",
       "        vertical-align: middle;\n",
       "    }\n",
       "\n",
       "    .dataframe tbody tr th {\n",
       "        vertical-align: top;\n",
       "    }\n",
       "\n",
       "    .dataframe thead th {\n",
       "        text-align: right;\n",
       "    }\n",
       "</style>\n",
       "<table border=\"1\" class=\"dataframe\">\n",
       "  <thead>\n",
       "    <tr style=\"text-align: right;\">\n",
       "      <th></th>\n",
       "      <th>salary_min</th>\n",
       "      <th>salary_max</th>\n",
       "      <th>salary_avg</th>\n",
       "    </tr>\n",
       "  </thead>\n",
       "  <tbody>\n",
       "    <tr>\n",
       "      <th>0</th>\n",
       "      <td>137</td>\n",
       "      <td>171</td>\n",
       "      <td>154</td>\n",
       "    </tr>\n",
       "    <tr>\n",
       "      <th>1</th>\n",
       "      <td>137</td>\n",
       "      <td>171</td>\n",
       "      <td>154</td>\n",
       "    </tr>\n",
       "    <tr>\n",
       "      <th>2</th>\n",
       "      <td>137</td>\n",
       "      <td>171</td>\n",
       "      <td>154</td>\n",
       "    </tr>\n",
       "    <tr>\n",
       "      <th>3</th>\n",
       "      <td>137</td>\n",
       "      <td>171</td>\n",
       "      <td>154</td>\n",
       "    </tr>\n",
       "    <tr>\n",
       "      <th>4</th>\n",
       "      <td>137</td>\n",
       "      <td>171</td>\n",
       "      <td>154</td>\n",
       "    </tr>\n",
       "  </tbody>\n",
       "</table>\n",
       "</div>"
      ],
      "text/plain": [
       "   salary_min  salary_max  salary_avg\n",
       "0         137         171         154\n",
       "1         137         171         154\n",
       "2         137         171         154\n",
       "3         137         171         154\n",
       "4         137         171         154"
      ]
     },
     "execution_count": 31,
     "metadata": {},
     "output_type": "execute_result"
    }
   ],
   "source": [
    "#Split Salary Estimate into new columns of min, max, and average\n",
    "df[['salary_min', 'salary_max']] = df['Salary Estimate'].str.extract(r'(\\d+)-(\\d+)', expand=True).astype(int)\n",
    "df['salary_avg'] = df[['salary_min', 'salary_max']].mean(axis=1).astype(int)\n",
    "df[['salary_min', 'salary_max', 'salary_avg']].head()"
   ]
  },
  {
   "cell_type": "code",
   "execution_count": null,
   "id": "be45f5f1-e035-40ad-a545-18aae088971c",
   "metadata": {},
   "outputs": [],
   "source": []
  },
  {
   "cell_type": "code",
   "execution_count": 32,
   "id": "82c8f0d2-69fa-41bb-a9fa-b6f67c01c122",
   "metadata": {
    "scrolled": true
   },
   "outputs": [
    {
     "data": {
      "text/plain": [
       "array(['Sr Data Scientist', 'Data Scientist',\n",
       "       'Data Scientist / Machine Learning Expert',\n",
       "       'Staff Data Scientist - Analytics',\n",
       "       'Data Scientist - Statistics, Early Career', 'Data Modeler',\n",
       "       'Experienced Data Scientist', 'Data Scientist - Contract',\n",
       "       'Data Analyst II', 'Medical Lab Scientist',\n",
       "       'Data Scientist/Machine Learning', 'Human Factors Scientist',\n",
       "       'Business Intelligence Analyst I- Data Insights',\n",
       "       'Data Scientist - Risk', 'Data Scientist-Human Resources',\n",
       "       'Senior Research Statistician- Data Scientist', 'Data Engineer',\n",
       "       'Associate Data Scientist', 'Business Intelligence Analyst',\n",
       "       'Senior Analyst/Data Scientist', 'Data Analyst',\n",
       "       'Machine Learning Engineer', 'Data Analyst I',\n",
       "       'Scientist - Molecular Biology',\n",
       "       'Computational Scientist, Machine Learning',\n",
       "       'Senior Data Scientist', 'Jr. Data Engineer',\n",
       "       'E-Commerce Data Analyst', 'Data Analytics Engineer',\n",
       "       'Product Data Scientist - Ads Data Science',\n",
       "       'Data Scientist - Intermediate', 'Global Data Analyst',\n",
       "       'Data & Machine Learning Scientist',\n",
       "       'Data Scientist - Machine Learning', 'Data Engineer (Remote)',\n",
       "       'Data Scientist, Applied Machine Learning - Bay Area',\n",
       "       'Principal Data Scientist', 'Business Data Analyst',\n",
       "       'Purification Scientist', 'Data Engineer, Enterprise Analytics',\n",
       "       'Data Scientist 3 (718)', 'Real World Science, Data Scientist',\n",
       "       'Data Scientist - Image and Video Analytics',\n",
       "       'Data Science Manager, Payment Acceptance - USA',\n",
       "       'Data Scientist / Applied Mathematician',\n",
       "       'Patient Safety- Associate Data Scientist',\n",
       "       '(Sr.) Data Scientist -', 'Data Scientist, Kinship - NYC/Portland',\n",
       "       'Applied Technology Researcher / Data Scientist',\n",
       "       'Health Data Scientist - Biomedical/Biostats',\n",
       "       'Staff Data Scientist', 'Sr Data Engineer (Sr BI Developer)',\n",
       "       'Lead Data Scientist', 'RFP Data Analyst',\n",
       "       'Data Scientist (TS/SCI)', 'Software Engineer - Data Science',\n",
       "       'Data Analyst/Engineer', 'NGS Scientist', 'Senior Data Engineer',\n",
       "       'Sr. ML/Data Scientist - AI/NLP/Chatbot',\n",
       "       'Data Integration and Modeling Engineer',\n",
       "       'Tableau Data Engineer 20-0117', 'AI Data Scientist',\n",
       "       'Research Scientist Patient Preferences (Remote)',\n",
       "       'Scientist - Biomarker and Flow Cytometry', 'Analytics Manager',\n",
       "       'Staff Scientist- Upstream PD',\n",
       "       'Sr Scientist - Extractables & Leachables',\n",
       "       'ELISA RESEARCH SCIENTIST (CV-15)', 'Say Business Data Analyst',\n",
       "       'Geospatial Data Scientist', 'Computational Scientist',\n",
       "       'Senior Data Analyst', 'Sr Data Analyst',\n",
       "       'Machine Learning Scientist - Bay Area, CA',\n",
       "       'Senior Data Scientist - Algorithms',\n",
       "       'Senior Data & Machine Learning Scientist',\n",
       "       'Research Scientist - Patient-Centered Research (Remote)',\n",
       "       'Jr. Business Data Analyst (position added 6/12/2020)',\n",
       "       'Sr. Data Scientist II',\n",
       "       'Production Engineer - Statistics/Data Analysis',\n",
       "       'Statistical Scientist', 'Computational Behavioral Scientist',\n",
       "       'Principal Data Scientist - Machine Learning',\n",
       "       'Principal Machine Learning Scientist',\n",
       "       'Senior Data Scientist - R&D Oncology',\n",
       "       'Health Plan Data Analyst, Sr',\n",
       "       'Principal Scientist/Associate Director, Quality Control and Analytical Technologies',\n",
       "       'Analytics - Business Assurance Data Analyst',\n",
       "       'Senior Data Scientist – Image Analytics, Novartis AI Innovation Lab',\n",
       "       'Data Science Instructor', 'Senior Business Intelligence Analyst',\n",
       "       'In-Line Inspection Data Analyst',\n",
       "       'Data Scientist - TS/SCI FSP or CI Required',\n",
       "       'Data Scientist - TS/SCI Required',\n",
       "       'Data Science Software Engineer',\n",
       "       'ENGINEER - COMPUTER SCIENTIST - RESEARCH COMPUTER SCIENTIST - SIGNAL PROCESSING - SAN ANTONIO OR',\n",
       "       'AI Ops Data Scientist', 'Intelligence Data Analyst, Senior',\n",
       "       'Analytics Manager - Data Mart',\n",
       "       'Data Modeler (Analytical Systems)',\n",
       "       'Senior Machine Learning Scientist - Bay Area, CA',\n",
       "       'Report Writer-Data Analyst', 'Staff Data Scientist - Pricing',\n",
       "       'Equity Data Insights Analyst - Quantitative Analyst',\n",
       "       'Operations Data Analyst', 'Software Data Engineer',\n",
       "       'Real World Evidence (RWE) Scientist', 'Computer Scientist 1',\n",
       "       'Environmental Data Science', 'Staff BI and Data Engineer',\n",
       "       'Data Scientist - Statistics, Mid-Career',\n",
       "       'Director of Data Science',\n",
       "       'Data Engineer, Digital & Comp Pathology',\n",
       "       'Manager / Lead, Data Science & Analytics',\n",
       "       'Diversity and Inclusion Data Analyst',\n",
       "       'Data Scientist Machine Learning', 'Chief Scientist',\n",
       "       'Development Scientist, Voltaren',\n",
       "       'Principal Data & Analytics Platform Engineer',\n",
       "       'Machine Learning Engineer/Scientist',\n",
       "       'Data Analyst - Unilever Prestige', 'VP, Data Science',\n",
       "       'Data Engineer - Kafka', 'Decision Scientist',\n",
       "       'Data Science All Star Program - Data Engineer Track',\n",
       "       'Scientist - Machine Learning', 'Sr. Data Scientist',\n",
       "       'Applied AI Scientist / Engineer',\n",
       "       'Data Engineer (Analytics, SQL, Python, AWS)',\n",
       "       'Senior Data Analyst - Finance & Platform Analytics',\n",
       "       'Market Research Data Scientist',\n",
       "       'IT Partner Digital Health Technology and Data Science',\n",
       "       'Software Engineer (Data Scientist, C,C++,Linux,Unix) - SISW - MG',\n",
       "       'Senior Clinical Data Scientist Programmer',\n",
       "       'Computer Vision / Deep Learning Scientist',\n",
       "       'Data Solutions Engineer - Data Modeler',\n",
       "       'Data Scientist (TS/SCI w/ Poly)',\n",
       "       'Weapons and Sensors Engineer/Scientist',\n",
       "       'Applied Computer Scientist', 'Cloud Data Engineer (Azure)',\n",
       "       'Lead Certified Clinical Laboratory Scientist - Saturday - Tuesday, 8:00pm - 6:30am shift',\n",
       "       'Sr. Data Analyst',\n",
       "       'Senior Scientist - Toxicologist - Product Integrity (Stewardship)',\n",
       "       'Senior Machine Learning Engineer',\n",
       "       'Data Scientist- Industrial Discrete Sector Industry',\n",
       "       'Senior Principal Data Scientist (Python/R)',\n",
       "       'Data Scientist(s)/Machine Learning Engineer',\n",
       "       'Scientist / Group Lead, Cancer Biology',\n",
       "       'Manager, Field Application Scientist, Southeast',\n",
       "       'COMPUTER SCIENTIST - ENGINEER - RESEARCH COMPUTER SCIENTIST - SIGNAL PROCESSING',\n",
       "       'Machine Learning Scientist / Engineer', 'Data Science Analyst',\n",
       "       'COMPUTER SCIENTIST - ENGINEER - RESEARCH COMPUTER SCIENTIST - TRANSPORTATION TECHNOLOGY',\n",
       "       'Software Engineer - Machine Learning & Data Science (Applied Intelligence Services Team)',\n",
       "       'Clinical Data Analyst', 'Data Scientist Technical Specialist',\n",
       "       'Data Science Manager', 'Big Data Engineer', 'Data Architect',\n",
       "       'Aviation AI/ML Data Scientist', 'Machine Learning Engineer, Sr.',\n",
       "       'Information Systems Engineering Specialist (Engineering Scientist)',\n",
       "       'Scientist/Research Associate-Metabolic Engineering',\n",
       "       'Vice President, Biometrics and Clinical Data Management',\n",
       "       'Enterprise Data Analyst (Enterprise Portfolio Management Office)',\n",
       "       'Lead Data Scientist – Network Analysis and Control',\n",
       "       'Sr. Research Associate/ Scientist, NGS prep & Molecular Genomics',\n",
       "       'Developer III - Data Science',\n",
       "       'Hydrogen/Tritium Materials Scientist (Experienced)',\n",
       "       'Data Scientist/Data Analytics Practitioner',\n",
       "       'AI/ML - Machine Learning Scientist, Siri Understanding'],\n",
       "      dtype=object)"
      ]
     },
     "execution_count": 32,
     "metadata": {},
     "output_type": "execute_result"
    }
   ],
   "source": [
    "df['Job Title'].unique()"
   ]
  },
  {
   "cell_type": "code",
   "execution_count": 33,
   "id": "5f7158a7-1f3c-48a2-a1aa-4c7861400e53",
   "metadata": {},
   "outputs": [],
   "source": [
    "# Group Job Titles by category\n",
    "df['job_category'] = df['Job Title'].apply(lambda x: 'Data Scientist' if ('Data Scientist' in x) or ('Data Science' in x)\n",
    "                                           else 'Data Analyst' if ('Data Analyst' in x) or ('Analytics' in x)\n",
    "                                           else 'Data Engineer' if ('Data Engineer' in x)\n",
    "                                           else 'Machine Learning Engineer' if ('Machine Learning' in x)\n",
    "                                           else 'Others')"
   ]
  },
  {
   "cell_type": "code",
   "execution_count": 34,
   "id": "3a1c1066-feef-4250-a0dc-73f6ae941a0c",
   "metadata": {},
   "outputs": [
    {
     "name": "stdout",
     "output_type": "stream",
     "text": [
      "172\n",
      "5\n"
     ]
    }
   ],
   "source": [
    "print(df['Job Title'].nunique())\n",
    "print(df['job_category'].nunique())"
   ]
  },
  {
   "cell_type": "code",
   "execution_count": 35,
   "id": "b886b2f2-d6c8-4121-9237-e86e96282d3c",
   "metadata": {},
   "outputs": [],
   "source": [
    "# Group jobs by job_rank/ hierarchy\n",
    "df['job_hierarchy'] = df['Job Title'].apply(lambda x: 'Senior' if ('Sr' in x) or ('Senior' in x) or ('Experienced' in x)\n",
    "                                            else 'Staff' if ('Staff' in x)\n",
    "                                            else 'Manager/ President' if ('Manager' in x) or ('President' in x)\n",
    "                                            else 'Director' if ('Director' in x)\n",
    "                                            else 'Executive')                 "
   ]
  },
  {
   "cell_type": "code",
   "execution_count": 36,
   "id": "f9b0efef-c3f5-4664-a32c-31679d222569",
   "metadata": {},
   "outputs": [
    {
     "name": "stdout",
     "output_type": "stream",
     "text": [
      "172\n",
      "5\n"
     ]
    }
   ],
   "source": [
    "print(df['Job Title'].nunique())\n",
    "print(df['job_hierarchy'].nunique())"
   ]
  },
  {
   "cell_type": "code",
   "execution_count": 37,
   "id": "9cf3e874-6021-4646-852d-dca03ee37cd0",
   "metadata": {},
   "outputs": [],
   "source": [
    "# Split work location into city/ township and state\n",
    "df[['City', 'State', 'dummy']] = df['Location'].str.split(\",\", expand = True)\n"
   ]
  },
  {
   "cell_type": "code",
   "execution_count": 38,
   "id": "cccec47c-b2ee-4eca-96cb-66b491634f47",
   "metadata": {},
   "outputs": [
    {
     "name": "stdout",
     "output_type": "stream",
     "text": [
      "[' NY' ' VA' ' MA' ' CA' ' IL' ' MO' ' WA' ' DC' None ' TN' ' TX' ' PA'\n",
      " ' AZ' ' WI' ' GA' ' FL' ' NE' ' KS' ' NH' ' NJ' ' LA' ' OH' ' IN' ' MD'\n",
      " ' CO' ' UT' ' OR' ' MI' ' SC' ' MS' ' AL' ' RI' ' IA' ' MN' ' OK' ' CT'\n",
      " ' NC' ' DE' ' Anne Arundel' ' WV']\n",
      "['New York' 'Chantilly' 'Boston' 'Newton' 'Santa Barbara' 'Cambridge'\n",
      " 'Bedford' 'San Diego' 'Chicago' 'Herndon' 'Saint Louis' 'Richland'\n",
      " 'Northbrook' 'Washington' 'Remote' 'Memphis' 'Plano' 'West Grove'\n",
      " 'Phoenix' 'Appleton' 'Atlanta' 'Orlando' 'Lexington' 'McLean'\n",
      " 'San Francisco' 'Sheboygan' 'United States' 'Bothell' 'Lincoln'\n",
      " 'Overland Park' 'Santa Monica' 'Portsmouth' 'Ewing' 'South San Francisco'\n",
      " 'Palo Alto' 'Bellevue' 'New Orleans' 'Akron' 'Fort Wayne' 'Woburn'\n",
      " 'Carson' 'Coral Gables' 'Santa Clara' 'Brisbane' 'Winter Park'\n",
      " 'Redwood City' 'Peoria' 'Ipswich' 'Carmel' 'Emeryville' 'Gaithersburg'\n",
      " 'Longmont' 'Austin' 'Yakima' 'Santa Cruz' 'Springfield' 'Alexandria'\n",
      " 'Utah' 'Reston' 'Denver' 'New Jersey' 'Aurora' 'Hill AFB' 'Chandler'\n",
      " 'Indianapolis' 'Nashville' 'Timonium' 'Burlingame' 'Annapolis Junction'\n",
      " 'Bethesda' 'Dayton' 'Schaumburg' 'Cupertino' 'Lehi' 'Culver City'\n",
      " 'Lake Oswego' 'San Mateo' 'Holyoke' 'Woodbridge' 'Dearborn'\n",
      " 'Maryland Heights' 'Rockville' 'Carpinteria' 'Columbia' 'Hauppauge'\n",
      " 'Fort Meade' 'Vicksburg' 'Birmingham' 'Blue Bell' 'Cincinnati'\n",
      " 'Harrisburg' 'Oak Ridge' 'San Carlos' 'Waltham' 'Fort Worth' 'Smithfield'\n",
      " 'Cedar Rapids' 'Fort Belvoir' 'Linthicum Heights' 'Maple Plain' 'Tulsa'\n",
      " 'Baltimore' 'Oklahoma City' 'Scotts Valley' 'Spartanburg' 'Hartford'\n",
      " 'Beavercreek' 'Norfolk' 'Charlotte' 'Champaign' 'Texas' 'Hoboken'\n",
      " 'Lebanon' 'Oakland' 'Melbourne' 'Cleveland' 'Norwell' 'San Jose'\n",
      " 'Piscataway' 'Danvers' 'Vienna' 'Livermore' 'Pittsburgh' 'Irvine'\n",
      " 'Oshkosh' 'Menlo Park' 'Dallas' 'Arlington' 'Monroe' 'Sacramento'\n",
      " 'Hampton' 'Richmond' 'Monterey' 'Woodlawn' 'Ann Arbor' 'Concord' 'Durham'\n",
      " 'Kent' 'Laurel' 'Falls Church' 'Thousand Oaks' 'Edison' 'Adelphi'\n",
      " 'Seattle' 'Sunnyvale' 'Fremont' 'Hamilton' 'Huntsville' 'Merrifield'\n",
      " 'Madison' 'Philadelphia' 'Winston-Salem' 'Raleigh' 'Burbank' 'San Ramon'\n",
      " 'Oxnard' 'Kansas City' 'Jersey City' 'Manchester' 'Winters' 'Brooklyn'\n",
      " 'Germantown' 'Omaha' 'Open Fork' 'Ashburn' 'Lombard' 'Alpharetta'\n",
      " 'Boulder' 'Mountain View' 'Trumbull' 'Sterling' 'Foster City' 'Frederick'\n",
      " 'Colorado Springs' 'Southfield' 'San Clemente' 'The Woodlands'\n",
      " 'Pleasanton' 'Wilmington' 'Fort Sam Houston' 'Lexington Park' 'Patuxent'\n",
      " 'Fairfax' 'San Antonio' 'Silver Spring' 'Portland' 'Simi Valley'\n",
      " 'New Bedford' 'Rancho Cucamonga' 'Collegeville' 'Minneapolis' 'Gahanna'\n",
      " 'California' 'Wellesley' 'Orange' 'Bridgeport' 'Oakville' 'Naperville'\n",
      " 'Houston' 'Redmond' 'West Chester' 'Quantico' 'Fort Lee' 'Irwindale']\n"
     ]
    }
   ],
   "source": [
    "# Split resulted in an extra column (expect 2), proceed to verify data within columns\n",
    "print(df['State'].unique())\n",
    "print(df['City'].unique())"
   ]
  },
  {
   "cell_type": "code",
   "execution_count": 39,
   "id": "800a8d3e-5a58-4ffd-8379-c94a90e71734",
   "metadata": {},
   "outputs": [
    {
     "name": "stdout",
     "output_type": "stream",
     "text": [
      "Index([534], dtype='int64')\n",
      "Index([534], dtype='int64')\n",
      "City          Patuxent\n",
      "State     Anne Arundel\n",
      "dummy               MD\n",
      "Name: 534, dtype: object\n"
     ]
    }
   ],
   "source": [
    "# Identified 'Anne Arundel' and 'MD', check index of the data\n",
    "print(df.loc[df['State'] == ' Anne Arundel'].index)\n",
    "print(df.loc[df['dummy'] == ' MD'].index)\n",
    "print(df.iloc[534, 20:23])"
   ]
  },
  {
   "cell_type": "code",
   "execution_count": 40,
   "id": "d87cfb09-e3db-47cc-bc0b-ea7ca37c54b0",
   "metadata": {},
   "outputs": [],
   "source": [
    "# Update values into 'City' and 'State' column, drop 'dummy' column\n",
    "df.iloc[534, 20] = 'Anne Arundel'\n",
    "df.iloc[534, 21] = 'MD'\n",
    "df.drop('dummy', axis=1, inplace=True)"
   ]
  },
  {
   "cell_type": "code",
   "execution_count": 41,
   "id": "661fba05-4358-4c60-86c2-8120a96d7d5a",
   "metadata": {},
   "outputs": [],
   "source": [
    "# Match keywords relevant to jobs from 'Job Description' column \n",
    "keywords = [\"machine learning\", \"python\", \"sql\", \"excel\", \"hadoop\", \"spark\", \"aws\", \"tableau\", \"power bi\", \"big data\"]\n",
    "\n",
    "for keyword in keywords:\n",
    "    column_name = keyword.replace(' ', '_')\n",
    "    df[column_name] = df['Job Description'].str.contains(keyword, case=False, na=False).astype(int)\n",
    "pd.set_option(\"display.max_columns\", None)"
   ]
  },
  {
   "cell_type": "code",
   "execution_count": 42,
   "id": "ccc9a389-fe61-4498-9e02-eb735d50cdcb",
   "metadata": {},
   "outputs": [
    {
     "data": {
      "text/html": [
       "<div>\n",
       "<style scoped>\n",
       "    .dataframe tbody tr th:only-of-type {\n",
       "        vertical-align: middle;\n",
       "    }\n",
       "\n",
       "    .dataframe tbody tr th {\n",
       "        vertical-align: top;\n",
       "    }\n",
       "\n",
       "    .dataframe thead th {\n",
       "        text-align: right;\n",
       "    }\n",
       "</style>\n",
       "<table border=\"1\" class=\"dataframe\">\n",
       "  <thead>\n",
       "    <tr style=\"text-align: right;\">\n",
       "      <th></th>\n",
       "      <th>index</th>\n",
       "      <th>Job Title</th>\n",
       "      <th>Salary Estimate</th>\n",
       "      <th>Job Description</th>\n",
       "      <th>Rating</th>\n",
       "      <th>Company Name</th>\n",
       "      <th>Location</th>\n",
       "      <th>Headquarters</th>\n",
       "      <th>Size</th>\n",
       "      <th>Founded</th>\n",
       "      <th>Type of ownership</th>\n",
       "      <th>Industry</th>\n",
       "      <th>Sector</th>\n",
       "      <th>Revenue</th>\n",
       "      <th>Competitors</th>\n",
       "      <th>salary_min</th>\n",
       "      <th>salary_max</th>\n",
       "      <th>salary_avg</th>\n",
       "      <th>job_category</th>\n",
       "      <th>job_hierarchy</th>\n",
       "      <th>City</th>\n",
       "      <th>State</th>\n",
       "      <th>machine_learning</th>\n",
       "      <th>python</th>\n",
       "      <th>sql</th>\n",
       "      <th>excel</th>\n",
       "      <th>hadoop</th>\n",
       "      <th>spark</th>\n",
       "      <th>aws</th>\n",
       "      <th>tableau</th>\n",
       "      <th>power_bi</th>\n",
       "      <th>big_data</th>\n",
       "    </tr>\n",
       "  </thead>\n",
       "  <tbody>\n",
       "    <tr>\n",
       "      <th>0</th>\n",
       "      <td>0</td>\n",
       "      <td>Sr Data Scientist</td>\n",
       "      <td>137-171</td>\n",
       "      <td>Description\\n\\nThe Senior Data Scientist is re...</td>\n",
       "      <td>3.1</td>\n",
       "      <td>Healthfirst</td>\n",
       "      <td>New York, NY</td>\n",
       "      <td>New York, NY</td>\n",
       "      <td>1001 to 5000 employees</td>\n",
       "      <td>1993</td>\n",
       "      <td>Nonprofit Organization</td>\n",
       "      <td>Insurance Carriers</td>\n",
       "      <td>Insurance</td>\n",
       "      <td>&lt;NA&gt;</td>\n",
       "      <td>EmblemHealth, UnitedHealth Group, Aetna</td>\n",
       "      <td>137</td>\n",
       "      <td>171</td>\n",
       "      <td>154</td>\n",
       "      <td>Data Scientist</td>\n",
       "      <td>Senior</td>\n",
       "      <td>New York</td>\n",
       "      <td>NY</td>\n",
       "      <td>1</td>\n",
       "      <td>0</td>\n",
       "      <td>0</td>\n",
       "      <td>0</td>\n",
       "      <td>0</td>\n",
       "      <td>0</td>\n",
       "      <td>1</td>\n",
       "      <td>0</td>\n",
       "      <td>0</td>\n",
       "      <td>0</td>\n",
       "    </tr>\n",
       "    <tr>\n",
       "      <th>1</th>\n",
       "      <td>1</td>\n",
       "      <td>Data Scientist</td>\n",
       "      <td>137-171</td>\n",
       "      <td>Secure our Nation, Ignite your Future\\n\\nJoin ...</td>\n",
       "      <td>4.2</td>\n",
       "      <td>ManTech</td>\n",
       "      <td>Chantilly, VA</td>\n",
       "      <td>Herndon, VA</td>\n",
       "      <td>5001 to 10000 employees</td>\n",
       "      <td>1968</td>\n",
       "      <td>Company - Public</td>\n",
       "      <td>Research &amp; Development</td>\n",
       "      <td>Business Services</td>\n",
       "      <td>$1 to $2 billion (USD)</td>\n",
       "      <td>&lt;NA&gt;</td>\n",
       "      <td>137</td>\n",
       "      <td>171</td>\n",
       "      <td>154</td>\n",
       "      <td>Data Scientist</td>\n",
       "      <td>Executive</td>\n",
       "      <td>Chantilly</td>\n",
       "      <td>VA</td>\n",
       "      <td>1</td>\n",
       "      <td>0</td>\n",
       "      <td>1</td>\n",
       "      <td>0</td>\n",
       "      <td>1</td>\n",
       "      <td>0</td>\n",
       "      <td>0</td>\n",
       "      <td>0</td>\n",
       "      <td>0</td>\n",
       "      <td>1</td>\n",
       "    </tr>\n",
       "    <tr>\n",
       "      <th>2</th>\n",
       "      <td>2</td>\n",
       "      <td>Data Scientist</td>\n",
       "      <td>137-171</td>\n",
       "      <td>Overview\\n\\n\\nAnalysis Group is one of the lar...</td>\n",
       "      <td>3.8</td>\n",
       "      <td>Analysis Group</td>\n",
       "      <td>Boston, MA</td>\n",
       "      <td>Boston, MA</td>\n",
       "      <td>1001 to 5000 employees</td>\n",
       "      <td>1981</td>\n",
       "      <td>Private Practice / Firm</td>\n",
       "      <td>Consulting</td>\n",
       "      <td>Business Services</td>\n",
       "      <td>$100 to $500 million (USD)</td>\n",
       "      <td>&lt;NA&gt;</td>\n",
       "      <td>137</td>\n",
       "      <td>171</td>\n",
       "      <td>154</td>\n",
       "      <td>Data Scientist</td>\n",
       "      <td>Executive</td>\n",
       "      <td>Boston</td>\n",
       "      <td>MA</td>\n",
       "      <td>1</td>\n",
       "      <td>1</td>\n",
       "      <td>0</td>\n",
       "      <td>1</td>\n",
       "      <td>0</td>\n",
       "      <td>0</td>\n",
       "      <td>1</td>\n",
       "      <td>0</td>\n",
       "      <td>0</td>\n",
       "      <td>0</td>\n",
       "    </tr>\n",
       "    <tr>\n",
       "      <th>3</th>\n",
       "      <td>3</td>\n",
       "      <td>Data Scientist</td>\n",
       "      <td>137-171</td>\n",
       "      <td>JOB DESCRIPTION:\\n\\nDo you have a passion for ...</td>\n",
       "      <td>3.5</td>\n",
       "      <td>INFICON</td>\n",
       "      <td>Newton, MA</td>\n",
       "      <td>Bad Ragaz, Switzerland</td>\n",
       "      <td>501 to 1000 employees</td>\n",
       "      <td>2000</td>\n",
       "      <td>Company - Public</td>\n",
       "      <td>Electrical &amp; Electronic Manufacturing</td>\n",
       "      <td>Manufacturing</td>\n",
       "      <td>$100 to $500 million (USD)</td>\n",
       "      <td>MKS Instruments, Pfeiffer Vacuum, Agilent Tech...</td>\n",
       "      <td>137</td>\n",
       "      <td>171</td>\n",
       "      <td>154</td>\n",
       "      <td>Data Scientist</td>\n",
       "      <td>Executive</td>\n",
       "      <td>Newton</td>\n",
       "      <td>MA</td>\n",
       "      <td>1</td>\n",
       "      <td>1</td>\n",
       "      <td>1</td>\n",
       "      <td>1</td>\n",
       "      <td>0</td>\n",
       "      <td>0</td>\n",
       "      <td>1</td>\n",
       "      <td>0</td>\n",
       "      <td>0</td>\n",
       "      <td>0</td>\n",
       "    </tr>\n",
       "    <tr>\n",
       "      <th>4</th>\n",
       "      <td>4</td>\n",
       "      <td>Data Scientist</td>\n",
       "      <td>137-171</td>\n",
       "      <td>Data Scientist\\nAffinity Solutions / Marketing...</td>\n",
       "      <td>2.9</td>\n",
       "      <td>Affinity Solutions</td>\n",
       "      <td>New York, NY</td>\n",
       "      <td>New York, NY</td>\n",
       "      <td>51 to 200 employees</td>\n",
       "      <td>1998</td>\n",
       "      <td>Company - Private</td>\n",
       "      <td>Advertising &amp; Marketing</td>\n",
       "      <td>Business Services</td>\n",
       "      <td>&lt;NA&gt;</td>\n",
       "      <td>Commerce Signals, Cardlytics, Yodlee</td>\n",
       "      <td>137</td>\n",
       "      <td>171</td>\n",
       "      <td>154</td>\n",
       "      <td>Data Scientist</td>\n",
       "      <td>Executive</td>\n",
       "      <td>New York</td>\n",
       "      <td>NY</td>\n",
       "      <td>1</td>\n",
       "      <td>1</td>\n",
       "      <td>1</td>\n",
       "      <td>1</td>\n",
       "      <td>0</td>\n",
       "      <td>0</td>\n",
       "      <td>0</td>\n",
       "      <td>0</td>\n",
       "      <td>0</td>\n",
       "      <td>0</td>\n",
       "    </tr>\n",
       "  </tbody>\n",
       "</table>\n",
       "</div>"
      ],
      "text/plain": [
       "   index          Job Title Salary Estimate  \\\n",
       "0      0  Sr Data Scientist        137-171    \n",
       "1      1     Data Scientist        137-171    \n",
       "2      2     Data Scientist        137-171    \n",
       "3      3     Data Scientist        137-171    \n",
       "4      4     Data Scientist        137-171    \n",
       "\n",
       "                                     Job Description  Rating  \\\n",
       "0  Description\\n\\nThe Senior Data Scientist is re...     3.1   \n",
       "1  Secure our Nation, Ignite your Future\\n\\nJoin ...     4.2   \n",
       "2  Overview\\n\\n\\nAnalysis Group is one of the lar...     3.8   \n",
       "3  JOB DESCRIPTION:\\n\\nDo you have a passion for ...     3.5   \n",
       "4  Data Scientist\\nAffinity Solutions / Marketing...     2.9   \n",
       "\n",
       "         Company Name       Location            Headquarters  \\\n",
       "0         Healthfirst   New York, NY            New York, NY   \n",
       "1             ManTech  Chantilly, VA             Herndon, VA   \n",
       "2      Analysis Group     Boston, MA              Boston, MA   \n",
       "3             INFICON     Newton, MA  Bad Ragaz, Switzerland   \n",
       "4  Affinity Solutions   New York, NY            New York, NY   \n",
       "\n",
       "                      Size Founded        Type of ownership  \\\n",
       "0   1001 to 5000 employees    1993   Nonprofit Organization   \n",
       "1  5001 to 10000 employees    1968         Company - Public   \n",
       "2   1001 to 5000 employees    1981  Private Practice / Firm   \n",
       "3    501 to 1000 employees    2000         Company - Public   \n",
       "4      51 to 200 employees    1998        Company - Private   \n",
       "\n",
       "                                Industry             Sector  \\\n",
       "0                     Insurance Carriers          Insurance   \n",
       "1                 Research & Development  Business Services   \n",
       "2                             Consulting  Business Services   \n",
       "3  Electrical & Electronic Manufacturing      Manufacturing   \n",
       "4                Advertising & Marketing  Business Services   \n",
       "\n",
       "                      Revenue  \\\n",
       "0                        <NA>   \n",
       "1      $1 to $2 billion (USD)   \n",
       "2  $100 to $500 million (USD)   \n",
       "3  $100 to $500 million (USD)   \n",
       "4                        <NA>   \n",
       "\n",
       "                                         Competitors  salary_min  salary_max  \\\n",
       "0            EmblemHealth, UnitedHealth Group, Aetna         137         171   \n",
       "1                                               <NA>         137         171   \n",
       "2                                               <NA>         137         171   \n",
       "3  MKS Instruments, Pfeiffer Vacuum, Agilent Tech...         137         171   \n",
       "4               Commerce Signals, Cardlytics, Yodlee         137         171   \n",
       "\n",
       "   salary_avg    job_category job_hierarchy       City State  \\\n",
       "0         154  Data Scientist        Senior   New York    NY   \n",
       "1         154  Data Scientist     Executive  Chantilly    VA   \n",
       "2         154  Data Scientist     Executive     Boston    MA   \n",
       "3         154  Data Scientist     Executive     Newton    MA   \n",
       "4         154  Data Scientist     Executive   New York    NY   \n",
       "\n",
       "   machine_learning  python  sql  excel  hadoop  spark  aws  tableau  \\\n",
       "0                 1       0    0      0       0      0    1        0   \n",
       "1                 1       0    1      0       1      0    0        0   \n",
       "2                 1       1    0      1       0      0    1        0   \n",
       "3                 1       1    1      1       0      0    1        0   \n",
       "4                 1       1    1      1       0      0    0        0   \n",
       "\n",
       "   power_bi  big_data  \n",
       "0         0         0  \n",
       "1         0         1  \n",
       "2         0         0  \n",
       "3         0         0  \n",
       "4         0         0  "
      ]
     },
     "execution_count": 42,
     "metadata": {},
     "output_type": "execute_result"
    }
   ],
   "source": [
    "df.head()"
   ]
  },
  {
   "cell_type": "code",
   "execution_count": 44,
   "id": "9318932a-d00e-40a2-aa76-a6ade97fc994",
   "metadata": {},
   "outputs": [],
   "source": [
    "df.to_csv('Cleaned_ds_jobs_data.csv', index=False)"
   ]
  },
  {
   "cell_type": "code",
   "execution_count": null,
   "id": "8132c754-2923-43df-8b46-a9a0e0a4ae92",
   "metadata": {},
   "outputs": [],
   "source": []
  }
 ],
 "metadata": {
  "kernelspec": {
   "display_name": "Python 3 (ipykernel)",
   "language": "python",
   "name": "python3"
  },
  "language_info": {
   "codemirror_mode": {
    "name": "ipython",
    "version": 3
   },
   "file_extension": ".py",
   "mimetype": "text/x-python",
   "name": "python",
   "nbconvert_exporter": "python",
   "pygments_lexer": "ipython3",
   "version": "3.12.1"
  }
 },
 "nbformat": 4,
 "nbformat_minor": 5
}
